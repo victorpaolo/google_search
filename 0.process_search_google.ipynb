{
 "cells": [
  {
   "cell_type": "markdown",
   "metadata": {},
   "source": [
    "## General Process\n",
    "\n",
    "This process is for the counting of the most repeated words from each link emerged by google keywords search, and it is expressed in the following process:\n",
    "<ol>\n",
    "<li> Search on goggle a sentence </li>\n",
    "<li>Get and open the links from the firsts results </li>\n",
    "<li>Get the text and count the words from each</li>\n",
    "<li>Create a table of comparison </li>\n",
    "<li>Backlog: Get the anchors</li>\n",
    "</ol>"
   ]
  },
  {
   "cell_type": "markdown",
   "metadata": {},
   "source": [
    "### 1. Search on goggle a sentence"
   ]
  },
  {
   "cell_type": "code",
   "execution_count": null,
   "metadata": {},
   "outputs": [],
   "source": []
  },
  {
   "cell_type": "markdown",
   "metadata": {},
   "source": [
    "### 2. Get and open the links from the firsts results"
   ]
  },
  {
   "cell_type": "markdown",
   "metadata": {},
   "source": [
    "### 3. Get the text and count the words from each\n",
    "\n",
    "Note: by now only one link"
   ]
  },
  {
   "cell_type": "code",
   "execution_count": 1,
   "metadata": {},
   "outputs": [
    {
     "name": "stdout",
     "output_type": "stream",
     "text": [
      "Requirement already satisfied: beautifulsoup4 in c:\\users\\vprea\\anaconda3\\lib\\site-packages (4.8.2)\n",
      "Requirement already satisfied: soupsieve>=1.2 in c:\\users\\vprea\\anaconda3\\lib\\site-packages (from beautifulsoup4) (1.9.5)\n"
     ]
    }
   ],
   "source": [
    "import urllib.request\n",
    "link_search = urllib.request.urlopen('https://cuideo.com/cuidado-de-personas-mayores/').read().decode()\n",
    "import sys \n",
    "!{sys.executable} -m pip install beautifulsoup4"
   ]
  },
  {
   "cell_type": "code",
   "execution_count": 11,
   "metadata": {},
   "outputs": [
    {
     "name": "stdout",
     "output_type": "stream",
     "text": [
      "13033\n"
     ]
    }
   ],
   "source": [
    "from bs4 import BeautifulSoup\n",
    "infoLink = BeautifulSoup(link_search)\n",
    "inText = infoLink.get_text()\n",
    "print(len(inText))"
   ]
  },
  {
   "cell_type": "code",
   "execution_count": 12,
   "metadata": {},
   "outputs": [],
   "source": [
    "textLowerCase = inText.lower()\n",
    "splitText = textLowerCase.split()\n",
    "deleteElements = ['a','la','de','en','el','las','los','por','y','que','con','un','una','o','para','se','lo']\n",
    "textDeleted  = [word for word in splitText if word.lower() not in deleteElements]"
   ]
  },
  {
   "cell_type": "code",
   "execution_count": 13,
   "metadata": {},
   "outputs": [
    {
     "name": "stdout",
     "output_type": "stream",
     "text": [
      "[('cuidados', 14), ('información', 13), ('servicio', 13), ('sobre', 11), ('del', 8), ('cuidadoras', 7), ('cuidador/a', 7), ('familia', 7), ('solicita', 6), ('persona', 6)]\n"
     ]
    }
   ],
   "source": [
    "from collections import Counter\n",
    "Counter = Counter(textDeleted)\n",
    "most_occur = Counter.most_common(10)\n",
    "print(most_occur)"
   ]
  },
  {
   "cell_type": "markdown",
   "metadata": {},
   "source": [
    "### 4. Create a table of comparison"
   ]
  },
  {
   "cell_type": "code",
   "execution_count": null,
   "metadata": {},
   "outputs": [],
   "source": []
  }
 ],
 "metadata": {
  "kernelspec": {
   "display_name": "Python 3",
   "language": "python",
   "name": "python3"
  },
  "language_info": {
   "codemirror_mode": {
    "name": "ipython",
    "version": 3
   },
   "file_extension": ".py",
   "mimetype": "text/x-python",
   "name": "python",
   "nbconvert_exporter": "python",
   "pygments_lexer": "ipython3",
   "version": "3.7.6"
  }
 },
 "nbformat": 4,
 "nbformat_minor": 4
}
